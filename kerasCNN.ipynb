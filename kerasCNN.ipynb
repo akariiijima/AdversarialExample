{
  "nbformat": 4,
  "nbformat_minor": 0,
  "metadata": {
    "colab": {
      "name": "kerasCNN.ipynb",
      "version": "0.3.2",
      "provenance": [],
      "collapsed_sections": [],
      "include_colab_link": true
    },
    "kernelspec": {
      "name": "python3",
      "display_name": "Python 3"
    },
    "accelerator": "GPU"
  },
  "cells": [
    {
      "cell_type": "markdown",
      "metadata": {
        "id": "view-in-github",
        "colab_type": "text"
      },
      "source": [
        "<a href=\"https://colab.research.google.com/github/akariiijima/AdversarialExample/blob/master/kerasCNN.ipynb\" target=\"_parent\"><img src=\"https://colab.research.google.com/assets/colab-badge.svg\" alt=\"Open In Colab\"/></a>"
      ]
    },
    {
      "cell_type": "code",
      "metadata": {
        "id": "J-D0wL1u_qe3",
        "colab_type": "code",
        "colab": {}
      },
      "source": [
        "import numpy as np\n",
        "import pandas as pd"
      ],
      "execution_count": 0,
      "outputs": []
    },
    {
      "cell_type": "code",
      "metadata": {
        "id": "dpkIG_Hk_0iw",
        "colab_type": "code",
        "colab": {}
      },
      "source": [
        "df=pd.read_csv(\"mnist_train.csv\")\n",
        "labels=df[\"5\"].values\n",
        "df.drop(\"5\", axis=1, inplace=True)\n",
        "pixels=df.values\n",
        "pixels=pixels/255\n",
        "pixels=pixels.reshape(len(df),28,28,1)"
      ],
      "execution_count": 0,
      "outputs": []
    },
    {
      "cell_type": "code",
      "metadata": {
        "id": "UTBey655_9Th",
        "colab_type": "code",
        "colab": {
          "base_uri": "https://localhost:8080/",
          "height": 34
        },
        "outputId": "4d91936f-a8a5-4aa3-8a1f-6dfe8915b6f4"
      },
      "source": [
        "import keras\n",
        "import tensorflow as tf"
      ],
      "execution_count": 4,
      "outputs": [
        {
          "output_type": "stream",
          "text": [
            "Using TensorFlow backend.\n"
          ],
          "name": "stderr"
        }
      ]
    },
    {
      "cell_type": "code",
      "metadata": {
        "id": "DrCN30Gp__4_",
        "colab_type": "code",
        "outputId": "76e32597-b9e7-4126-d74d-3da0c21fcc09",
        "colab": {
          "base_uri": "https://localhost:8080/",
          "height": 71
        }
      },
      "source": [
        "input_cnn=keras.layers.Input(shape=(28, 28,1))\n",
        "model_cnn=keras.layers.Conv2D(20, (3, 3), padding=\"valid\", activation=tf.nn.relu,)(input_cnn)\n",
        "model_cnn=keras.layers.MaxPooling2D(pool_size=(3,3))(model_cnn)\n",
        "model_cnn=keras.layers.Conv2D(50, (3, 3), padding=\"valid\", activation=tf.nn.relu,)(model_cnn)\n",
        "model_cnn=keras.layers.MaxPooling2D(pool_size=(3,3))(model_cnn)\n",
        "model_cnn=keras.layers.BatchNormalization()(model_cnn)\n",
        "model_cnn=keras.layers.Flatten()(model_cnn)\n",
        "model_cnn=keras.layers.Dense(225, activation=tf.nn.relu)(model_cnn)\n",
        "model_cnn=keras.layers.Dense(10, activation=\"softmax\")(model_cnn)\n",
        "\n",
        "model=keras.models.Model(inputs=input_cnn, output=model_cnn)"
      ],
      "execution_count": 11,
      "outputs": [
        {
          "output_type": "stream",
          "text": [
            "/usr/local/lib/python3.6/dist-packages/ipykernel_launcher.py:11: UserWarning: Update your `Model` call to the Keras 2 API: `Model(inputs=Tensor(\"in..., outputs=Tensor(\"de...)`\n",
            "  # This is added back by InteractiveShellApp.init_path()\n"
          ],
          "name": "stderr"
        }
      ]
    },
    {
      "cell_type": "code",
      "metadata": {
        "id": "ye1y7QuNCw-e",
        "colab_type": "code",
        "colab": {
          "base_uri": "https://localhost:8080/",
          "height": 442
        },
        "outputId": "7b12fa07-7a02-48bd-cc86-f2b0f9529735"
      },
      "source": [
        "model.compile(optimizer=tf.train.AdamOptimizer(), loss=\"sparse_categorical_crossentropy\", metrics=[\"accuracy\"])\n",
        "\n",
        "model.summary()\n"
      ],
      "execution_count": 14,
      "outputs": [
        {
          "output_type": "stream",
          "text": [
            "_________________________________________________________________\n",
            "Layer (type)                 Output Shape              Param #   \n",
            "=================================================================\n",
            "input_3 (InputLayer)         (None, 28, 28, 1)         0         \n",
            "_________________________________________________________________\n",
            "conv2d_4 (Conv2D)            (None, 26, 26, 20)        200       \n",
            "_________________________________________________________________\n",
            "max_pooling2d_3 (MaxPooling2 (None, 8, 8, 20)          0         \n",
            "_________________________________________________________________\n",
            "conv2d_5 (Conv2D)            (None, 6, 6, 50)          9050      \n",
            "_________________________________________________________________\n",
            "max_pooling2d_4 (MaxPooling2 (None, 2, 2, 50)          0         \n",
            "_________________________________________________________________\n",
            "batch_normalization_2 (Batch (None, 2, 2, 50)          200       \n",
            "_________________________________________________________________\n",
            "flatten_2 (Flatten)          (None, 200)               0         \n",
            "_________________________________________________________________\n",
            "dense_3 (Dense)              (None, 225)               45225     \n",
            "_________________________________________________________________\n",
            "dense_4 (Dense)              (None, 10)                2260      \n",
            "=================================================================\n",
            "Total params: 56,935\n",
            "Trainable params: 56,835\n",
            "Non-trainable params: 100\n",
            "_________________________________________________________________\n"
          ],
          "name": "stdout"
        }
      ]
    },
    {
      "cell_type": "code",
      "metadata": {
        "id": "e1jqFcOeDB8y",
        "colab_type": "code",
        "outputId": "acb560c0-a770-4c7e-af13-abde5892fd59",
        "colab": {
          "base_uri": "https://localhost:8080/",
          "height": 1734
        }
      },
      "source": [
        "fit=model.fit(pixels,labels,epochs=50, batch_size=4096,validation_split=0.2)"
      ],
      "execution_count": 15,
      "outputs": [
        {
          "output_type": "stream",
          "text": [
            "Train on 47999 samples, validate on 12000 samples\n",
            "Epoch 1/50\n",
            "47999/47999 [==============================] - 3s 70us/step - loss: 1.3433 - acc: 0.6159 - val_loss: 0.8609 - val_acc: 0.7254\n",
            "Epoch 2/50\n",
            "47999/47999 [==============================] - 3s 64us/step - loss: 0.3847 - acc: 0.9025 - val_loss: 0.6717 - val_acc: 0.8150\n",
            "Epoch 3/50\n",
            "47999/47999 [==============================] - 3s 64us/step - loss: 0.1984 - acc: 0.9427 - val_loss: 0.5544 - val_acc: 0.8393\n",
            "Epoch 4/50\n",
            "47999/47999 [==============================] - 3s 64us/step - loss: 0.1381 - acc: 0.9596 - val_loss: 0.4144 - val_acc: 0.8705\n",
            "Epoch 5/50\n",
            "47999/47999 [==============================] - 3s 64us/step - loss: 0.1067 - acc: 0.9681 - val_loss: 0.2726 - val_acc: 0.9106\n",
            "Epoch 6/50\n",
            "47999/47999 [==============================] - 3s 64us/step - loss: 0.0881 - acc: 0.9739 - val_loss: 0.1712 - val_acc: 0.9480\n",
            "Epoch 7/50\n",
            "47999/47999 [==============================] - 3s 65us/step - loss: 0.0750 - acc: 0.9782 - val_loss: 0.1326 - val_acc: 0.9599\n",
            "Epoch 8/50\n",
            "47999/47999 [==============================] - 3s 65us/step - loss: 0.0655 - acc: 0.9805 - val_loss: 0.0879 - val_acc: 0.9731\n",
            "Epoch 9/50\n",
            "47999/47999 [==============================] - 3s 64us/step - loss: 0.0584 - acc: 0.9829 - val_loss: 0.0758 - val_acc: 0.9776\n",
            "Epoch 10/50\n",
            "47999/47999 [==============================] - 3s 63us/step - loss: 0.0523 - acc: 0.9848 - val_loss: 0.0645 - val_acc: 0.9797\n",
            "Epoch 11/50\n",
            "47999/47999 [==============================] - 3s 64us/step - loss: 0.0475 - acc: 0.9862 - val_loss: 0.0570 - val_acc: 0.9825\n",
            "Epoch 12/50\n",
            "47999/47999 [==============================] - 3s 64us/step - loss: 0.0431 - acc: 0.9874 - val_loss: 0.0526 - val_acc: 0.9839\n",
            "Epoch 13/50\n",
            "47999/47999 [==============================] - 3s 66us/step - loss: 0.0396 - acc: 0.9887 - val_loss: 0.0535 - val_acc: 0.9834\n",
            "Epoch 14/50\n",
            "47999/47999 [==============================] - 3s 65us/step - loss: 0.0363 - acc: 0.9900 - val_loss: 0.0496 - val_acc: 0.9847\n",
            "Epoch 15/50\n",
            "47999/47999 [==============================] - 3s 65us/step - loss: 0.0334 - acc: 0.9909 - val_loss: 0.0487 - val_acc: 0.9847\n",
            "Epoch 16/50\n",
            "47999/47999 [==============================] - 3s 64us/step - loss: 0.0309 - acc: 0.9917 - val_loss: 0.0455 - val_acc: 0.9858\n",
            "Epoch 17/50\n",
            "47999/47999 [==============================] - 3s 64us/step - loss: 0.0287 - acc: 0.9925 - val_loss: 0.0482 - val_acc: 0.9845\n",
            "Epoch 18/50\n",
            "47999/47999 [==============================] - 3s 64us/step - loss: 0.0263 - acc: 0.9931 - val_loss: 0.0459 - val_acc: 0.9855\n",
            "Epoch 19/50\n",
            "47999/47999 [==============================] - 3s 64us/step - loss: 0.0244 - acc: 0.9938 - val_loss: 0.0433 - val_acc: 0.9871\n",
            "Epoch 20/50\n",
            "47999/47999 [==============================] - 3s 65us/step - loss: 0.0227 - acc: 0.9944 - val_loss: 0.0433 - val_acc: 0.9869\n",
            "Epoch 21/50\n",
            "47999/47999 [==============================] - 3s 64us/step - loss: 0.0210 - acc: 0.9950 - val_loss: 0.0426 - val_acc: 0.9870\n",
            "Epoch 22/50\n",
            "47999/47999 [==============================] - 3s 64us/step - loss: 0.0197 - acc: 0.9952 - val_loss: 0.0411 - val_acc: 0.9873\n",
            "Epoch 23/50\n",
            "47999/47999 [==============================] - 3s 63us/step - loss: 0.0183 - acc: 0.9956 - val_loss: 0.0439 - val_acc: 0.9867\n",
            "Epoch 24/50\n",
            "47999/47999 [==============================] - 3s 63us/step - loss: 0.0170 - acc: 0.9960 - val_loss: 0.0441 - val_acc: 0.9858\n",
            "Epoch 25/50\n",
            "47999/47999 [==============================] - 3s 63us/step - loss: 0.0159 - acc: 0.9965 - val_loss: 0.0422 - val_acc: 0.9866\n",
            "Epoch 26/50\n",
            "47999/47999 [==============================] - 3s 64us/step - loss: 0.0148 - acc: 0.9967 - val_loss: 0.0380 - val_acc: 0.9882\n",
            "Epoch 27/50\n",
            "47999/47999 [==============================] - 3s 63us/step - loss: 0.0137 - acc: 0.9972 - val_loss: 0.0407 - val_acc: 0.9873\n",
            "Epoch 28/50\n",
            "47999/47999 [==============================] - 3s 64us/step - loss: 0.0128 - acc: 0.9975 - val_loss: 0.0376 - val_acc: 0.9882\n",
            "Epoch 29/50\n",
            "47999/47999 [==============================] - 3s 65us/step - loss: 0.0120 - acc: 0.9975 - val_loss: 0.0383 - val_acc: 0.9875\n",
            "Epoch 30/50\n",
            "47999/47999 [==============================] - 3s 64us/step - loss: 0.0112 - acc: 0.9977 - val_loss: 0.0398 - val_acc: 0.9867\n",
            "Epoch 31/50\n",
            "47999/47999 [==============================] - 3s 64us/step - loss: 0.0105 - acc: 0.9979 - val_loss: 0.0369 - val_acc: 0.9886\n",
            "Epoch 32/50\n",
            "47999/47999 [==============================] - 3s 64us/step - loss: 0.0099 - acc: 0.9983 - val_loss: 0.0376 - val_acc: 0.9886\n",
            "Epoch 33/50\n",
            "47999/47999 [==============================] - 3s 65us/step - loss: 0.0092 - acc: 0.9985 - val_loss: 0.0371 - val_acc: 0.9885\n",
            "Epoch 34/50\n",
            "47999/47999 [==============================] - 3s 64us/step - loss: 0.0086 - acc: 0.9987 - val_loss: 0.0361 - val_acc: 0.9888\n",
            "Epoch 35/50\n",
            "47999/47999 [==============================] - 3s 64us/step - loss: 0.0080 - acc: 0.9990 - val_loss: 0.0364 - val_acc: 0.9881\n",
            "Epoch 36/50\n",
            "47999/47999 [==============================] - 3s 64us/step - loss: 0.0075 - acc: 0.9991 - val_loss: 0.0382 - val_acc: 0.9877\n",
            "Epoch 37/50\n",
            "47999/47999 [==============================] - 3s 65us/step - loss: 0.0071 - acc: 0.9991 - val_loss: 0.0346 - val_acc: 0.9885\n",
            "Epoch 38/50\n",
            "47999/47999 [==============================] - 3s 65us/step - loss: 0.0066 - acc: 0.9993 - val_loss: 0.0362 - val_acc: 0.9884\n",
            "Epoch 39/50\n",
            "47999/47999 [==============================] - 3s 64us/step - loss: 0.0062 - acc: 0.9994 - val_loss: 0.0356 - val_acc: 0.9884\n",
            "Epoch 40/50\n",
            "47999/47999 [==============================] - 3s 64us/step - loss: 0.0058 - acc: 0.9995 - val_loss: 0.0359 - val_acc: 0.9881\n",
            "Epoch 41/50\n",
            "47999/47999 [==============================] - 3s 64us/step - loss: 0.0055 - acc: 0.9996 - val_loss: 0.0359 - val_acc: 0.9887\n",
            "Epoch 42/50\n",
            "47999/47999 [==============================] - 3s 64us/step - loss: 0.0051 - acc: 0.9996 - val_loss: 0.0378 - val_acc: 0.9875\n",
            "Epoch 43/50\n",
            "47999/47999 [==============================] - 3s 64us/step - loss: 0.0049 - acc: 0.9996 - val_loss: 0.0346 - val_acc: 0.9890\n",
            "Epoch 44/50\n",
            "47999/47999 [==============================] - 3s 64us/step - loss: 0.0045 - acc: 0.9996 - val_loss: 0.0345 - val_acc: 0.9887\n",
            "Epoch 45/50\n",
            "47999/47999 [==============================] - 3s 63us/step - loss: 0.0043 - acc: 0.9997 - val_loss: 0.0368 - val_acc: 0.9882\n",
            "Epoch 46/50\n",
            "47999/47999 [==============================] - 3s 64us/step - loss: 0.0041 - acc: 0.9998 - val_loss: 0.0354 - val_acc: 0.9888\n",
            "Epoch 47/50\n",
            "47999/47999 [==============================] - 3s 64us/step - loss: 0.0038 - acc: 0.9998 - val_loss: 0.0356 - val_acc: 0.9885\n",
            "Epoch 48/50\n",
            "47999/47999 [==============================] - 3s 64us/step - loss: 0.0036 - acc: 0.9998 - val_loss: 0.0348 - val_acc: 0.9888\n",
            "Epoch 49/50\n",
            "47999/47999 [==============================] - 3s 65us/step - loss: 0.0034 - acc: 0.9999 - val_loss: 0.0348 - val_acc: 0.9888\n",
            "Epoch 50/50\n",
            "47999/47999 [==============================] - 3s 63us/step - loss: 0.0032 - acc: 0.9999 - val_loss: 0.0349 - val_acc: 0.9883\n"
          ],
          "name": "stdout"
        }
      ]
    },
    {
      "cell_type": "code",
      "metadata": {
        "id": "0aGUP6nAPuyQ",
        "colab_type": "code",
        "colab": {
          "base_uri": "https://localhost:8080/",
          "height": 51
        },
        "outputId": "fe7675a0-297a-4e40-d21a-178646652400"
      },
      "source": [
        "test_loss, test_acc = model.evaluate(pixels, labels)\n",
        "\n",
        "print(\"Test_accuracy:\", test_acc)"
      ],
      "execution_count": 17,
      "outputs": [
        {
          "output_type": "stream",
          "text": [
            "59999/59999 [==============================] - 3s 57us/step\n",
            "Test_accuracy: 0.997533292221537\n"
          ],
          "name": "stdout"
        }
      ]
    }
  ]
}