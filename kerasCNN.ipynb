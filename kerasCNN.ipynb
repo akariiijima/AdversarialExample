{
  "nbformat": 4,
  "nbformat_minor": 0,
  "metadata": {
    "colab": {
      "name": "kerasCNN.ipynb",
      "version": "0.3.2",
      "provenance": [],
      "collapsed_sections": [],
      "include_colab_link": true
    },
    "kernelspec": {
      "name": "python3",
      "display_name": "Python 3"
    },
    "accelerator": "GPU"
  },
  "cells": [
    {
      "cell_type": "markdown",
      "metadata": {
        "id": "view-in-github",
        "colab_type": "text"
      },
      "source": [
        "<a href=\"https://colab.research.google.com/github/akariiijima/AdversarialExample/blob/master/kerasCNN.ipynb\" target=\"_parent\"><img src=\"https://colab.research.google.com/assets/colab-badge.svg\" alt=\"Open In Colab\"/></a>"
      ]
    },
    {
      "cell_type": "code",
      "metadata": {
        "id": "J-D0wL1u_qe3",
        "colab_type": "code",
        "colab": {}
      },
      "source": [
        "import numpy as np\n",
        "import pandas as pd"
      ],
      "execution_count": 0,
      "outputs": []
    },
    {
      "cell_type": "code",
      "metadata": {
        "id": "dpkIG_Hk_0iw",
        "colab_type": "code",
        "colab": {}
      },
      "source": [
        "df=pd.read_csv(\"mnist_train.csv\")\n",
        "labels=df[\"5\"].values\n",
        "df.drop(\"5\", axis=1, inplace=True)\n",
        "pixels=df.values\n",
        "pixels=pixels/255\n",
        "pixels=pixels.reshape(len(df),28,28,1)"
      ],
      "execution_count": 0,
      "outputs": []
    },
    {
      "cell_type": "code",
      "metadata": {
        "id": "UTBey655_9Th",
        "colab_type": "code",
        "colab": {}
      },
      "source": [
        "import keras\n",
        "import tensorflow as tf"
      ],
      "execution_count": 0,
      "outputs": []
    },
    {
      "cell_type": "code",
      "metadata": {
        "id": "DrCN30Gp__4_",
        "colab_type": "code",
        "outputId": "b71af08b-58e9-42fa-e540-b25350965286",
        "colab": {
          "base_uri": "https://localhost:8080/",
          "height": 71
        }
      },
      "source": [
        "input_cnn=keras.layers.Input(shape=(28, 28,1))\n",
        "model_cnn=keras.layers.Conv2D(20, (3, 3), padding=\"valid\", activation=tf.nn.relu,)(input_cnn)\n",
        "model_cnn=keras.layers.MaxPooling2D(pool_size=(3,3))(model_cnn)\n",
        "model_cnn=keras.layers.Conv2D(50, (3, 3), padding=\"valid\", activation=tf.nn.relu,)(model_cnn)\n",
        "model_cnn=keras.layers.MaxPooling2D(pool_size=(3,3))(model_cnn)\n",
        "model_cnn=keras.layers.BatchNormalization()(model_cnn)\n",
        "model_cnn=keras.layers.Flatten()(model_cnn)\n",
        "model_cnn=keras.layers.Dense(225, activation=tf.nn.relu)(model_cnn)\n",
        "model_cnn=keras.layers.Dense(10, activation=\"softmax\")(model_cnn)\n",
        "\n",
        "model=keras.models.Model(inputs=input_cnn, output=model_cnn)"
      ],
      "execution_count": 10,
      "outputs": [
        {
          "output_type": "stream",
          "text": [
            "/usr/local/lib/python3.6/dist-packages/ipykernel_launcher.py:11: UserWarning: Update your `Model` call to the Keras 2 API: `Model(inputs=Tensor(\"in..., outputs=Tensor(\"de...)`\n",
            "  # This is added back by InteractiveShellApp.init_path()\n"
          ],
          "name": "stderr"
        }
      ]
    },
    {
      "cell_type": "code",
      "metadata": {
        "id": "ye1y7QuNCw-e",
        "colab_type": "code",
        "colab": {
          "base_uri": "https://localhost:8080/",
          "height": 442
        },
        "outputId": "c33c55a7-4962-4a8b-cc51-14ab54fd7f13"
      },
      "source": [
        "model.compile(optimizer=tf.train.AdamOptimizer(), loss=\"sparse_categorical_crossentropy\", metrics=[\"accuracy\"])\n",
        "\n",
        "model.summary()\n"
      ],
      "execution_count": 11,
      "outputs": [
        {
          "output_type": "stream",
          "text": [
            "_________________________________________________________________\n",
            "Layer (type)                 Output Shape              Param #   \n",
            "=================================================================\n",
            "input_2 (InputLayer)         (None, 28, 28, 1)         0         \n",
            "_________________________________________________________________\n",
            "conv2d_3 (Conv2D)            (None, 26, 26, 20)        200       \n",
            "_________________________________________________________________\n",
            "max_pooling2d_3 (MaxPooling2 (None, 8, 8, 20)          0         \n",
            "_________________________________________________________________\n",
            "conv2d_4 (Conv2D)            (None, 6, 6, 50)          9050      \n",
            "_________________________________________________________________\n",
            "max_pooling2d_4 (MaxPooling2 (None, 2, 2, 50)          0         \n",
            "_________________________________________________________________\n",
            "batch_normalization_2 (Batch (None, 2, 2, 50)          200       \n",
            "_________________________________________________________________\n",
            "flatten_2 (Flatten)          (None, 200)               0         \n",
            "_________________________________________________________________\n",
            "dense_3 (Dense)              (None, 225)               45225     \n",
            "_________________________________________________________________\n",
            "dense_4 (Dense)              (None, 10)                2260      \n",
            "=================================================================\n",
            "Total params: 56,935\n",
            "Trainable params: 56,835\n",
            "Non-trainable params: 100\n",
            "_________________________________________________________________\n"
          ],
          "name": "stdout"
        }
      ]
    },
    {
      "cell_type": "code",
      "metadata": {
        "id": "e1jqFcOeDB8y",
        "colab_type": "code",
        "outputId": "04a9c9fb-a9d9-4095-b56a-33c340db98c6",
        "colab": {
          "base_uri": "https://localhost:8080/",
          "height": 1805
        }
      },
      "source": [
        "fit=model.fit(pixels,labels,epochs=50, batch_size=4096,validation_split=0.2)"
      ],
      "execution_count": 12,
      "outputs": [
        {
          "output_type": "stream",
          "text": [
            "WARNING:tensorflow:From /usr/local/lib/python3.6/dist-packages/tensorflow/python/ops/math_ops.py:3066: to_int32 (from tensorflow.python.ops.math_ops) is deprecated and will be removed in a future version.\n",
            "Instructions for updating:\n",
            "Use tf.cast instead.\n",
            "Train on 47999 samples, validate on 12000 samples\n",
            "Epoch 1/50\n",
            "47999/47999 [==============================] - 7s 155us/step - loss: 1.3577 - acc: 0.6137 - val_loss: 0.5975 - val_acc: 0.8423\n",
            "Epoch 2/50\n",
            "47999/47999 [==============================] - 2s 51us/step - loss: 0.3825 - acc: 0.9098 - val_loss: 0.2939 - val_acc: 0.9097\n",
            "Epoch 3/50\n",
            "47999/47999 [==============================] - 3s 55us/step - loss: 0.1946 - acc: 0.9453 - val_loss: 0.1725 - val_acc: 0.9487\n",
            "Epoch 4/50\n",
            "47999/47999 [==============================] - 3s 55us/step - loss: 0.1338 - acc: 0.9617 - val_loss: 0.1234 - val_acc: 0.9628\n",
            "Epoch 5/50\n",
            "47999/47999 [==============================] - 3s 55us/step - loss: 0.1035 - acc: 0.9705 - val_loss: 0.1022 - val_acc: 0.9680\n",
            "Epoch 6/50\n",
            "47999/47999 [==============================] - 3s 55us/step - loss: 0.0853 - acc: 0.9752 - val_loss: 0.0880 - val_acc: 0.9734\n",
            "Epoch 7/50\n",
            "47999/47999 [==============================] - 3s 55us/step - loss: 0.0730 - acc: 0.9790 - val_loss: 0.0774 - val_acc: 0.9756\n",
            "Epoch 8/50\n",
            "47999/47999 [==============================] - 3s 55us/step - loss: 0.0637 - acc: 0.9818 - val_loss: 0.0723 - val_acc: 0.9770\n",
            "Epoch 9/50\n",
            "47999/47999 [==============================] - 3s 55us/step - loss: 0.0564 - acc: 0.9842 - val_loss: 0.0648 - val_acc: 0.9798\n",
            "Epoch 10/50\n",
            "47999/47999 [==============================] - 3s 54us/step - loss: 0.0508 - acc: 0.9854 - val_loss: 0.0625 - val_acc: 0.9797\n",
            "Epoch 11/50\n",
            "47999/47999 [==============================] - 3s 55us/step - loss: 0.0460 - acc: 0.9872 - val_loss: 0.0594 - val_acc: 0.9807\n",
            "Epoch 12/50\n",
            "47999/47999 [==============================] - 3s 55us/step - loss: 0.0418 - acc: 0.9881 - val_loss: 0.0585 - val_acc: 0.9813\n",
            "Epoch 13/50\n",
            "47999/47999 [==============================] - 3s 55us/step - loss: 0.0381 - acc: 0.9896 - val_loss: 0.0542 - val_acc: 0.9817\n",
            "Epoch 14/50\n",
            "47999/47999 [==============================] - 3s 55us/step - loss: 0.0351 - acc: 0.9906 - val_loss: 0.0521 - val_acc: 0.9827\n",
            "Epoch 15/50\n",
            "47999/47999 [==============================] - 3s 56us/step - loss: 0.0322 - acc: 0.9915 - val_loss: 0.0516 - val_acc: 0.9829\n",
            "Epoch 16/50\n",
            "47999/47999 [==============================] - 3s 55us/step - loss: 0.0297 - acc: 0.9921 - val_loss: 0.0480 - val_acc: 0.9835\n",
            "Epoch 17/50\n",
            "47999/47999 [==============================] - 3s 55us/step - loss: 0.0275 - acc: 0.9927 - val_loss: 0.0478 - val_acc: 0.9842\n",
            "Epoch 18/50\n",
            "47999/47999 [==============================] - 3s 55us/step - loss: 0.0253 - acc: 0.9935 - val_loss: 0.0484 - val_acc: 0.9839\n",
            "Epoch 19/50\n",
            "47999/47999 [==============================] - 3s 55us/step - loss: 0.0236 - acc: 0.9941 - val_loss: 0.0425 - val_acc: 0.9861\n",
            "Epoch 20/50\n",
            "47999/47999 [==============================] - 3s 55us/step - loss: 0.0220 - acc: 0.9946 - val_loss: 0.0446 - val_acc: 0.9856\n",
            "Epoch 21/50\n",
            "47999/47999 [==============================] - 3s 55us/step - loss: 0.0205 - acc: 0.9951 - val_loss: 0.0428 - val_acc: 0.9853\n",
            "Epoch 22/50\n",
            "47999/47999 [==============================] - 3s 55us/step - loss: 0.0193 - acc: 0.9953 - val_loss: 0.0444 - val_acc: 0.9857\n",
            "Epoch 23/50\n",
            "47999/47999 [==============================] - 3s 55us/step - loss: 0.0179 - acc: 0.9959 - val_loss: 0.0409 - val_acc: 0.9861\n",
            "Epoch 24/50\n",
            "47999/47999 [==============================] - 3s 55us/step - loss: 0.0166 - acc: 0.9964 - val_loss: 0.0396 - val_acc: 0.9867\n",
            "Epoch 25/50\n",
            "47999/47999 [==============================] - 3s 55us/step - loss: 0.0155 - acc: 0.9968 - val_loss: 0.0411 - val_acc: 0.9862\n",
            "Epoch 26/50\n",
            "47999/47999 [==============================] - 3s 55us/step - loss: 0.0145 - acc: 0.9969 - val_loss: 0.0380 - val_acc: 0.9873\n",
            "Epoch 27/50\n",
            "47999/47999 [==============================] - 3s 55us/step - loss: 0.0135 - acc: 0.9973 - val_loss: 0.0377 - val_acc: 0.9876\n",
            "Epoch 28/50\n",
            "47999/47999 [==============================] - 3s 55us/step - loss: 0.0127 - acc: 0.9977 - val_loss: 0.0378 - val_acc: 0.9887\n",
            "Epoch 29/50\n",
            "47999/47999 [==============================] - 3s 55us/step - loss: 0.0121 - acc: 0.9977 - val_loss: 0.0370 - val_acc: 0.9878\n",
            "Epoch 30/50\n",
            "47999/47999 [==============================] - 3s 55us/step - loss: 0.0111 - acc: 0.9982 - val_loss: 0.0386 - val_acc: 0.9874\n",
            "Epoch 31/50\n",
            "47999/47999 [==============================] - 3s 55us/step - loss: 0.0104 - acc: 0.9984 - val_loss: 0.0369 - val_acc: 0.9878\n",
            "Epoch 32/50\n",
            "47999/47999 [==============================] - 3s 55us/step - loss: 0.0098 - acc: 0.9986 - val_loss: 0.0366 - val_acc: 0.9875\n",
            "Epoch 33/50\n",
            "47999/47999 [==============================] - 3s 55us/step - loss: 0.0092 - acc: 0.9989 - val_loss: 0.0365 - val_acc: 0.9882\n",
            "Epoch 34/50\n",
            "47999/47999 [==============================] - 3s 55us/step - loss: 0.0086 - acc: 0.9988 - val_loss: 0.0375 - val_acc: 0.9875\n",
            "Epoch 35/50\n",
            "47999/47999 [==============================] - 3s 55us/step - loss: 0.0080 - acc: 0.9991 - val_loss: 0.0393 - val_acc: 0.9868\n",
            "Epoch 36/50\n",
            "47999/47999 [==============================] - 3s 55us/step - loss: 0.0076 - acc: 0.9992 - val_loss: 0.0396 - val_acc: 0.9867\n",
            "Epoch 37/50\n",
            "47999/47999 [==============================] - 3s 55us/step - loss: 0.0070 - acc: 0.9994 - val_loss: 0.0399 - val_acc: 0.9862\n",
            "Epoch 38/50\n",
            "47999/47999 [==============================] - 3s 55us/step - loss: 0.0066 - acc: 0.9994 - val_loss: 0.0378 - val_acc: 0.9873\n",
            "Epoch 39/50\n",
            "47999/47999 [==============================] - 3s 55us/step - loss: 0.0063 - acc: 0.9995 - val_loss: 0.0387 - val_acc: 0.9870\n",
            "Epoch 40/50\n",
            "47999/47999 [==============================] - 3s 55us/step - loss: 0.0059 - acc: 0.9995 - val_loss: 0.0370 - val_acc: 0.9879\n",
            "Epoch 41/50\n",
            "47999/47999 [==============================] - 3s 55us/step - loss: 0.0055 - acc: 0.9996 - val_loss: 0.0370 - val_acc: 0.9879\n",
            "Epoch 42/50\n",
            "47999/47999 [==============================] - 3s 55us/step - loss: 0.0052 - acc: 0.9996 - val_loss: 0.0363 - val_acc: 0.9890\n",
            "Epoch 43/50\n",
            "47999/47999 [==============================] - 3s 55us/step - loss: 0.0050 - acc: 0.9996 - val_loss: 0.0415 - val_acc: 0.9862\n",
            "Epoch 44/50\n",
            "47999/47999 [==============================] - 3s 55us/step - loss: 0.0047 - acc: 0.9997 - val_loss: 0.0375 - val_acc: 0.9877\n",
            "Epoch 45/50\n",
            "47999/47999 [==============================] - 3s 55us/step - loss: 0.0044 - acc: 0.9997 - val_loss: 0.0363 - val_acc: 0.9893\n",
            "Epoch 46/50\n",
            "47999/47999 [==============================] - 3s 55us/step - loss: 0.0042 - acc: 0.9998 - val_loss: 0.0368 - val_acc: 0.9883\n",
            "Epoch 47/50\n",
            "47999/47999 [==============================] - 3s 55us/step - loss: 0.0040 - acc: 0.9998 - val_loss: 0.0373 - val_acc: 0.9883\n",
            "Epoch 48/50\n",
            "47999/47999 [==============================] - 3s 55us/step - loss: 0.0037 - acc: 0.9998 - val_loss: 0.0365 - val_acc: 0.9887\n",
            "Epoch 49/50\n",
            "47999/47999 [==============================] - 3s 55us/step - loss: 0.0035 - acc: 0.9999 - val_loss: 0.0365 - val_acc: 0.9890\n",
            "Epoch 50/50\n",
            "47999/47999 [==============================] - 3s 55us/step - loss: 0.0033 - acc: 0.9999 - val_loss: 0.0371 - val_acc: 0.9884\n"
          ],
          "name": "stdout"
        }
      ]
    },
    {
      "cell_type": "code",
      "metadata": {
        "id": "0aGUP6nAPuyQ",
        "colab_type": "code",
        "colab": {
          "base_uri": "https://localhost:8080/",
          "height": 51
        },
        "outputId": "29268ed0-dd5b-49de-d4d1-c14863860e4a"
      },
      "source": [
        "test_loss, test_acc = model.evaluate(pixels, labels)\n",
        "\n",
        "print(\"Test_accuracy:\", test_acc)"
      ],
      "execution_count": 13,
      "outputs": [
        {
          "output_type": "stream",
          "text": [
            "59999/59999 [==============================] - 3s 52us/step\n",
            "Test_accuracy: 0.9976166269437824\n"
          ],
          "name": "stdout"
        }
      ]
    }
  ]
}