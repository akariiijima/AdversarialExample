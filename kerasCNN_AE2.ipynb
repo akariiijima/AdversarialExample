{
  "nbformat": 4,
  "nbformat_minor": 0,
  "metadata": {
    "colab": {
      "name": "kerasCNN_AE2.ipynb",
      "version": "0.3.2",
      "provenance": [],
      "collapsed_sections": [],
      "include_colab_link": true
    },
    "kernelspec": {
      "name": "python3",
      "display_name": "Python 3"
    },
    "accelerator": "GPU"
  },
  "cells": [
    {
      "cell_type": "markdown",
      "metadata": {
        "id": "view-in-github",
        "colab_type": "text"
      },
      "source": [
        "<a href=\"https://colab.research.google.com/github/akariiijima/AdversarialExample/blob/master/kerasCNN_AE2.ipynb\" target=\"_parent\"><img src=\"https://colab.research.google.com/assets/colab-badge.svg\" alt=\"Open In Colab\"/></a>"
      ]
    },
    {
      "cell_type": "code",
      "metadata": {
        "id": "GSb4gU2yzcTk",
        "colab_type": "code",
        "colab": {}
      },
      "source": [
        "import keras\n",
        "import matplotlib.pyplot as plt\n",
        "import numpy as np\n",
        "import pandas as pd\n",
        "import tensorflow as tf"
      ],
      "execution_count": 0,
      "outputs": []
    },
    {
      "cell_type": "code",
      "metadata": {
        "id": "Xl8mhqkWzwoY",
        "colab_type": "code",
        "colab": {}
      },
      "source": [
        "df=pd.read_csv(\"mnist_train.csv\")\n",
        "#1-10 labels\n",
        "labels=df[\"5\"].values\n",
        "#one-hot labels\n",
        "labels = tf.keras.utils.to_categorical(labels)\n",
        "\n",
        "df.drop(\"5\", axis=1, inplace=True)\n",
        "pixels=df.values\n",
        "pixels=pixels/255\n",
        "pixels=pixels.reshape(len(df),28,28,1)"
      ],
      "execution_count": 0,
      "outputs": []
    },
    {
      "cell_type": "code",
      "metadata": {
        "id": "Ik0xNIb1ctQj",
        "colab_type": "code",
        "colab": {}
      },
      "source": [
        "class AdversarialLayer(keras.layers.Layer):\n",
        "    def __init__(self, units):\n",
        "      super().__init__()\n",
        "      self.units = units\n",
        "    def build(self, input_shape):\n",
        "      #重みの定義\n",
        "      self.kernel = self.add_weight(\n",
        "      \"kernel\", shape=[int(input_shape[-1]), self.units],\n",
        "      initializer='glorot_uniform', trainable=True\n",
        "      )\n",
        "      #バイアスの定義\n",
        "      self.bias = self.add_weight(\n",
        "      \"bias\", shape=[self.units,],\n",
        "      initializer='zeros', trainable=False\n",
        "      )\n",
        "    def call(self, input):\n",
        "      output = tf.matmul(input, self.kernel)\n",
        "      output = tf.add(output, self.bias)\n",
        "      return tf.nn.relu(output)\n",
        "      \n"
      ],
      "execution_count": 0,
      "outputs": []
    },
    {
      "cell_type": "code",
      "metadata": {
        "id": "3cxOn3Jph0LU",
        "colab_type": "code",
        "colab": {
          "base_uri": "https://localhost:8080/",
          "height": 51
        },
        "outputId": "32f2d5ec-448f-4f96-aff7-f315255f226c"
      },
      "source": [
        "input = tf.constant([[1., 0., 0.], [0., 1., 0.]])\n",
        "layer = AdversarialLayer(5)\n",
        "print(input)\n",
        "print(layer(input))"
      ],
      "execution_count": 133,
      "outputs": [
        {
          "output_type": "stream",
          "text": [
            "Tensor(\"Const_1:0\", shape=(2, 3), dtype=float32)\n",
            "Tensor(\"adversarial_layer_2/Relu:0\", shape=(2, 5), dtype=float32)\n"
          ],
          "name": "stdout"
        }
      ]
    },
    {
      "cell_type": "code",
      "metadata": {
        "id": "-6xtpKOI0BU8",
        "colab_type": "code",
        "colab": {}
      },
      "source": [
        "modelCNN=keras.Sequential([\n",
        "    #keras.layers.Flatten(input_shape=(28, 28)),\n",
        "    keras.layers.Conv2D(20, (3, 3), padding=\"valid\", activation=tf.nn.relu, input_shape=(28, 28,1)),\n",
        "    keras.layers.MaxPooling2D(pool_size=(3,3)),\n",
        "    keras.layers.Conv2D(50, (3, 3), padding=\"valid\", activation=tf.nn.relu),\n",
        "    keras.layers.MaxPooling2D(pool_size=(3,3)),\n",
        "    keras.layers.BatchNormalization(),\n",
        "    keras.layers.Flatten(),\n",
        "    keras.layers.Dense(225, activation=tf.nn.relu),\n",
        "    keras.layers.Dense(10, activation=\"softmax\"),\n",
        "])"
      ],
      "execution_count": 0,
      "outputs": []
    },
    {
      "cell_type": "code",
      "metadata": {
        "id": "mIxZHJgQOy_x",
        "colab_type": "code",
        "colab": {
          "base_uri": "https://localhost:8080/",
          "height": 408
        },
        "outputId": "1a0eca2d-d45e-46a6-cab7-13ee6077c605"
      },
      "source": [
        "modelCNN.compile(optimizer=tf.train.AdamOptimizer(), loss=\"categorical_crossentropy\", metrics=[\"accuracy\"])\n",
        "modelCNN.summary()"
      ],
      "execution_count": 128,
      "outputs": [
        {
          "output_type": "stream",
          "text": [
            "_________________________________________________________________\n",
            "Layer (type)                 Output Shape              Param #   \n",
            "=================================================================\n",
            "conv2d_110 (Conv2D)          (None, 26, 26, 20)        200       \n",
            "_________________________________________________________________\n",
            "max_pooling2d_102 (MaxPoolin (None, 8, 8, 20)          0         \n",
            "_________________________________________________________________\n",
            "conv2d_111 (Conv2D)          (None, 6, 6, 50)          9050      \n",
            "_________________________________________________________________\n",
            "max_pooling2d_103 (MaxPoolin (None, 2, 2, 50)          0         \n",
            "_________________________________________________________________\n",
            "batch_normalization_50 (Batc (None, 2, 2, 50)          200       \n",
            "_________________________________________________________________\n",
            "flatten_87 (Flatten)         (None, 200)               0         \n",
            "_________________________________________________________________\n",
            "dense_100 (Dense)            (None, 225)               45225     \n",
            "_________________________________________________________________\n",
            "dense_101 (Dense)            (None, 10)                2260      \n",
            "=================================================================\n",
            "Total params: 56,935\n",
            "Trainable params: 56,835\n",
            "Non-trainable params: 100\n",
            "_________________________________________________________________\n"
          ],
          "name": "stdout"
        }
      ]
    },
    {
      "cell_type": "code",
      "metadata": {
        "id": "YICb1zZqWgnq",
        "colab_type": "code",
        "colab": {
          "base_uri": "https://localhost:8080/",
          "height": 68
        },
        "outputId": "eb851b13-88e8-4d55-ef31-a8e5c7bddd01"
      },
      "source": [
        "evaluate = modelCNN.evaluate(x=pixels, y=labels, batch_size=None, verbose=1, sample_weight=None, steps=None)\n",
        "print(modelCNN.metrics_names)\n",
        "evaluate"
      ],
      "execution_count": 107,
      "outputs": [
        {
          "output_type": "stream",
          "text": [
            "59999/59999 [==============================] - 3s 57us/step\n",
            "['loss', 'acc']\n"
          ],
          "name": "stdout"
        },
        {
          "output_type": "execute_result",
          "data": {
            "text/plain": [
              "[0.12901365068593076, 0.9609660161002683]"
            ]
          },
          "metadata": {
            "tags": []
          },
          "execution_count": 107
        }
      ]
    },
    {
      "cell_type": "code",
      "metadata": {
        "id": "SgvVs6lIWAzD",
        "colab_type": "code",
        "colab": {
          "base_uri": "https://localhost:8080/",
          "height": 544
        },
        "outputId": "30fa0fa7-f824-48cd-ea9b-6c67e98ba5be"
      },
      "source": [
        "fit=modelCNN.fit(pixels, labels,epochs=10, batch_size=4096,validation_split=0.2)\n",
        "fit.history['loss']"
      ],
      "execution_count": 112,
      "outputs": [
        {
          "output_type": "stream",
          "text": [
            "Train on 47999 samples, validate on 12000 samples\n",
            "Epoch 1/10\n",
            "47999/47999 [==============================] - 3s 59us/step - loss: 0.0223 - acc: 0.9947 - val_loss: 0.0512 - val_acc: 0.9834\n",
            "Epoch 2/10\n",
            "47999/47999 [==============================] - 3s 60us/step - loss: 0.0208 - acc: 0.9950 - val_loss: 0.0539 - val_acc: 0.9823\n",
            "Epoch 3/10\n",
            "47999/47999 [==============================] - 3s 59us/step - loss: 0.0193 - acc: 0.9955 - val_loss: 0.0476 - val_acc: 0.9842\n",
            "Epoch 4/10\n",
            "47999/47999 [==============================] - 3s 58us/step - loss: 0.0180 - acc: 0.9959 - val_loss: 0.0543 - val_acc: 0.9817\n",
            "Epoch 5/10\n",
            "47999/47999 [==============================] - 3s 59us/step - loss: 0.0168 - acc: 0.9961 - val_loss: 0.0473 - val_acc: 0.9849\n",
            "Epoch 6/10\n",
            "47999/47999 [==============================] - 3s 59us/step - loss: 0.0156 - acc: 0.9967 - val_loss: 0.0469 - val_acc: 0.9843\n",
            "Epoch 7/10\n",
            "47999/47999 [==============================] - 3s 59us/step - loss: 0.0148 - acc: 0.9971 - val_loss: 0.0415 - val_acc: 0.9865\n",
            "Epoch 8/10\n",
            "47999/47999 [==============================] - 3s 59us/step - loss: 0.0138 - acc: 0.9973 - val_loss: 0.0412 - val_acc: 0.9867\n",
            "Epoch 9/10\n",
            "47999/47999 [==============================] - 3s 59us/step - loss: 0.0129 - acc: 0.9976 - val_loss: 0.0444 - val_acc: 0.9849\n",
            "Epoch 10/10\n",
            "47999/47999 [==============================] - 3s 60us/step - loss: 0.0122 - acc: 0.9978 - val_loss: 0.0408 - val_acc: 0.9867\n"
          ],
          "name": "stdout"
        },
        {
          "output_type": "execute_result",
          "data": {
            "text/plain": [
              "[0.022280924101905075,\n",
              " 0.020828009405227863,\n",
              " 0.01925884524898964,\n",
              " 0.017978081693566825,\n",
              " 0.01677995002130323,\n",
              " 0.01560666213681047,\n",
              " 0.014751679090585362,\n",
              " 0.013832652842934366,\n",
              " 0.012875582369768115,\n",
              " 0.012221509982917557]"
            ]
          },
          "metadata": {
            "tags": []
          },
          "execution_count": 112
        }
      ]
    },
    {
      "cell_type": "code",
      "metadata": {
        "id": "7IgnZkaUjg3j",
        "colab_type": "code",
        "colab": {
          "base_uri": "https://localhost:8080/",
          "height": 725
        },
        "outputId": "e89073b3-26b5-4a44-cfa3-cbaeaf983d03"
      },
      "source": [
        "def input_derivative(model, x, goal):\n",
        "    \"\"\" Calculate derivatives wrt the intputs \"\"\"\n",
        "    y_true = keras.layers.Input(shape=(10,))\n",
        "    ce = keras.losses.categorical_crossentropy(y_true, model.output)\n",
        "    grad_ce = tf.keras.backend.gradients(ce, model.inputs)\n",
        "    # Create a function to be able to run this computation graph\n",
        "    func = keras.backend.function(model.inputs + [y_true], grad_ce)\n",
        "    output = func([x, goal])\n",
        "    return output\n",
        "\n",
        "def adversarial(model, n, steps, eta):\n",
        "    \"\"\"\n",
        "    model: MNIST model\n",
        "    n:     integer. goal label (just an int, the function transfroms it into a one-hot vector)\n",
        "    steps: integer. number of steps for gradient descent\n",
        "    eata:  integer. step size for gradient descent\n",
        "    \"\"\"\n",
        "    # Set the goal output\n",
        "    goal = tf.keras.utils.to_categorical(n, 10)\n",
        "    # Create a random image to initialize gradient descent with\n",
        "    x = np.random.normal(.5, .3, (1,784))\n",
        "    # Gradient descent on the input\n",
        "    for i in range(steps):\n",
        "      # Calculate the derivative\n",
        "      d = input_derivative(model, x, goal)\n",
        "      # The Gradient update on x\n",
        "      x -= eta*d[0]\n",
        "      print(\"step:{} done...\".format(i+1))\n",
        "    return x\n",
        "\n",
        "def generate(n):\n",
        "    \"\"\"\n",
        "    n: integer\n",
        "    goal label ( not hot vector)\n",
        "    \"\"\"\n",
        "    a = adversarial(model, n, 100, 1)\n",
        "    x = np.round(model.predict(a), 2)\n",
        "\n",
        "    plt.imshow(a.reshape(28,28), cmap='gray')\n",
        "\n",
        "\n",
        "def sneaky_adversarial(model, n, x_target, steps, eta, lam=0.5):\n",
        "    \"\"\"\n",
        "    model:    model object\n",
        "    n:        integer\n",
        "         our toal label\n",
        "    x_target: numpy vector\n",
        "         our goal image for the adversarial example\n",
        "    steps:    integer\n",
        "         number of steps for gradient descent\n",
        "    lam:      float\n",
        "         lambda, our regularization parameter. Default is 0.5\n",
        "    \"\"\"\n",
        "\n",
        "    # Set the goal output\n",
        "    goal = tf.keras.utils.to_categorical(n, 10)\n",
        "    \n",
        "    # Create a random noise\n",
        "    x = np.random.normal(0.5, 0.3, (1,784))\n",
        "\n",
        "    \n",
        "    # Gradient descent on the input\n",
        "    for i in range(steps):\n",
        "      # Calculate the derivative\n",
        "      d = input_derivative(model, x, goal)\n",
        "      # The grads update on x, with an added penalty to the cost function\n",
        "      x -= eta * (d[0] + lam * (x - x_target))\n",
        "\n",
        "    return x\n",
        "\n",
        "\n",
        "def sneaky_generate(n, m):\n",
        "    \"\"\"\n",
        "    n:    int 0-9, the target number to match\n",
        "    m:    index of example image to use (from the test set)\n",
        "    \"\"\"\n",
        "    # Find random instance of m in test set\n",
        "    idx = np.random.randint(0,10000)\n",
        "    while np.where(y_test[idx] == 1)[0][0] != m: \n",
        "      idx += 1\n",
        "    # Hardcode the parameters for the wrapper function\n",
        "    a = sneaky_adversarial(model, n, x_test[idx], 10, 1)\n",
        "    x = np.round(model.predict(a), 2)\n",
        "    print('\\nWhat we want our adversarial example to look like: ')\n",
        "    plt.imshow(x_test[idx].reshape((28,28)), cmap='gray')\n",
        "    plt.show()\n",
        "    print('\\n')\n",
        "    print('Adversarial Example: ')\n",
        "    plt.imshow(a.reshape(28,28), cmap='gray')\n",
        "    plt.show()\n",
        "    print('Network Prediction: ' + str(np.argmax(x)) + '\\n')\n",
        "    print('Network Output: \\n' + str(x) + '\\n')\n",
        "    return a\n",
        "\n",
        "(x_train, y_train), (x_test, y_test) = tf.keras.datasets.mnist.load_data()\n",
        "y_train = tf.keras.utils.to_categorical(y_train, 10)\n",
        "y_test = tf.keras.utils.to_categorical(y_test, 10)\n",
        "print(x_train.shape)\n",
        "x_train = x_train.reshape(60000,28*28)\n",
        "x_test = x_test.reshape(10000,28*28)\n",
        "x_train = x_train/255.\n",
        "x_test = x_test/255.\n",
        "print(x_train.shape)\n",
        "\n",
        "\n",
        "a = keras.layers.Input(shape=(28*28,))\n",
        "x = keras.layers.Dense(units=512, activation='relu', input_shape=(28*28,))(a)\n",
        "x = keras.layers.Dense(units=128, activation='relu')(x)\n",
        "x = keras.layers.Dense(units=64, activation='relu')(x)\n",
        "x = keras.layers.Dense(units=10, activation='softmax')(x)\n",
        "\n",
        "model = keras.models.Model(inputs=a, outputs=x)\n",
        "model.compile(optimizer=keras.optimizers.Adadelta(), loss='categorical_crossentropy', metrics=['accuracy'])\n",
        "#model.fit(x_train, y_train, batch_size=64, epochs=5, validation_data=(x_test, y_test))\n",
        "\n",
        "\"\"\"\n",
        "a = keras.layers.Input(shape=(28*28,))\n",
        "x = keras.layers.Conv2D(20, (3, 3), padding=\"valid\", activation=tf.nn.relu,)(a)\n",
        "x = keras.layers.MaxPooling2D(pool_size=(3,3))(x)\n",
        "x = keras.layers.Conv2D(50, (3, 3), padding=\"valid\", activation=tf.nn.relu,)(x)\n",
        "x = keras.layers.MaxPooling2D(pool_size=(3,3))(x)\n",
        "x = keras.layers.BatchNormalization()(x)\n",
        "x = keras.layers.Flatten()(x)\n",
        "x = keras.layers.Dense(225, activation=tf.nn.relu)(x)\n",
        "x = keras.layers.Dense(10, activation=\"softmax\")(x)\n",
        "\"\"\"\n",
        "\n",
        "# sneaky_generate(target label, target digit)\n",
        "adv_ex = sneaky_generate(8, 2)"
      ],
      "execution_count": 195,
      "outputs": [
        {
          "output_type": "stream",
          "text": [
            "(60000, 28, 28)\n",
            "(60000, 784)\n",
            "\n",
            "What we want our adversarial example to look like: \n"
          ],
          "name": "stdout"
        },
        {
          "output_type": "display_data",
          "data": {
            "image/png": "[encoded data removed]",
            "text/plain": [
              "<Figure size 432x288 with 1 Axes>"
            ]
          },
          "metadata": {
            "tags": []
          }
        },
        {
          "output_type": "stream",
          "text": [
            "\n",
            "\n",
            "Adversarial Example: \n"
          ],
          "name": "stdout"
        },
        {
          "output_type": "display_data",
          "data": {
            "image/png": "[encoded data removed]",
            "text/plain": [
              "<Figure size 432x288 with 1 Axes>"
            ]
          },
          "metadata": {
            "tags": []
          }
        },
        {
          "output_type": "stream",
          "text": [
            "Network Prediction: 8\n",
            "\n",
            "Network Output: \n",
            "[[0.19 0.11 0.06 0.1  0.07 0.03 0.03 0.12 0.25 0.03]]\n",
            "\n"
          ],
          "name": "stdout"
        }
      ]
    }
  ]
}