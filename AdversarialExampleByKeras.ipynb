{
  "nbformat": 4,
  "nbformat_minor": 0,
  "metadata": {
    "colab": {
      "name": "AdversarialExampleByKeras.ipynb",
      "version": "0.3.2",
      "provenance": [],
      "collapsed_sections": [],
      "include_colab_link": true
    },
    "kernelspec": {
      "name": "python3",
      "display_name": "Python 3"
    },
    "accelerator": "GPU"
  },
  "cells": [
    {
      "cell_type": "markdown",
      "metadata": {
        "id": "view-in-github",
        "colab_type": "text"
      },
      "source": [
        "<a href=\"https://colab.research.google.com/github/akariiijima/AdversarialExample/blob/master/AdversarialExampleByKeras.ipynb\" target=\"_parent\"><img src=\"https://colab.research.google.com/assets/colab-badge.svg\" alt=\"Open In Colab\"/></a>"
      ]
    },
    {
      "cell_type": "code",
      "metadata": {
        "id": "VZMFyIHGuwbI",
        "colab_type": "code",
        "colab": {
          "base_uri": "https://localhost:8080/",
          "height": 34
        },
        "outputId": "a4090496-e908-49e2-e6bb-63e749747047"
      },
      "source": [
        "import keras\n",
        "import matplotlib.pyplot as plt\n",
        "import numpy as np\n",
        "import pandas as pd\n",
        "import tensorflow as tf"
      ],
      "execution_count": 1,
      "outputs": [
        {
          "output_type": "stream",
          "text": [
            "Using TensorFlow backend.\n"
          ],
          "name": "stderr"
        }
      ]
    },
    {
      "cell_type": "code",
      "metadata": {
        "id": "uVpOqEgounmO",
        "colab_type": "code",
        "colab": {
          "base_uri": "https://localhost:8080/",
          "height": 980
        },
        "outputId": "37096386-d3f4-4cd8-9f53-d1931a986707"
      },
      "source": [
        "def inputDerivative(model, x, goal):\n",
        "    \"\"\" \n",
        "    Calculate derivatives wrt the intputs \n",
        "    model : model object\n",
        "    x         : integer, random noise\n",
        "    goal    : the goal output (one-hot)\n",
        "    \"\"\"\n",
        "    # y_true : goal\n",
        "    y_true = keras.layers.Input(shape=(10,))\n",
        "    # ce : loss of goal and model's output\n",
        "    ce = keras.losses.categorical_crossentropy(y_true, model.output)\n",
        "    # grad_ce : gradients of loss(ce) and model's input\n",
        "    grad_ce = tf.keras.backend.gradients(ce, model.inputs)\n",
        "    \n",
        "    # Create a function to be able to run this computation graph\n",
        "    # INPUT    : [model.inputs(x), y_true(goal)]\n",
        "    # OUTPUT: grad_ce \n",
        "    func = keras.backend.function(model.inputs + [y_true], grad_ce)\n",
        "    output = func([x, goal])\n",
        "    return output\n",
        "\n",
        "def sneakyAdversarial(model, n, x_target, steps, eta, lam=0.5):\n",
        "    \"\"\"\n",
        "    model      : model object\n",
        "    n              : integer, our toal label\n",
        "    x_target : numpy vector, our goal image for the adversarial example\n",
        "    steps       : integer, number of steps for gradient descent\n",
        "    eta           : integer, step size for gradient descent\n",
        "    lam          : float, lambda, our regularization parameter. Default is 0.5\n",
        "    \"\"\"\n",
        "\n",
        "    # Set the goal output (one-hot)\n",
        "    goal = tf.keras.utils.to_categorical(n, 10)\n",
        "    \n",
        "    # Create a random noise\n",
        "    # Average:0.5, Standard Deviation:0.3, Matrix shape is (1, 784)\n",
        "    x = np.random.normal(0.5, 0.3, (1,784))\n",
        "    \n",
        "    # Gradient descent on the input\n",
        "    for i in range(steps):\n",
        "      # Calculate the derivative\n",
        "      d = inputDerivative(model, x, goal)\n",
        "      # The grads update on x, with an added penalty to the cost function\n",
        "      x -= eta * (d[0] + lam * (x - x_target))\n",
        "      \n",
        "    return x\n",
        "\n",
        "def sneakyGenerate(n, m):\n",
        "    \"\"\"\n",
        "    n  : int 0-9, the target number to match\n",
        "    m : index of example image to use (from the test set)\n",
        "    \"\"\"\n",
        "    \n",
        "    # Find random instance of m in test set\n",
        "    idx = np.random.randint(0,10000)\n",
        "    while np.where(y_test[idx] == 1)[0][0] != m: \n",
        "      idx += 1\n",
        "    \n",
        "    # Hardcode the parameters for the wrapper function\n",
        "    a = sneakyAdversarial(model, n, x_test[idx], 10, 0.25)\n",
        "    x = np.round(model.predict(a), 2)\n",
        "    print('\\nWhat we want our adversarial example to look like: ' + str(m))\n",
        "    plt.imshow(x_test[idx].reshape((28,28)), cmap='gray')\n",
        "    plt.show()\n",
        "    print('\\n')\n",
        "    print('Adversarial Example: ')\n",
        "    plt.imshow(a.reshape(28,28), cmap='gray')\n",
        "    plt.show()\n",
        "    print('Network Prediction: ' + str(np.argmax(x)) + '\\n')\n",
        "    print('Network Output: \\n' + str(x) + '\\n')\n",
        "    return a\n",
        "\n",
        "# x_*...PIXCEL (28, 28)\n",
        "# y_*...LABEL (10, )\n",
        "(x_train, y_train), (x_test, y_test) = tf.keras.datasets.mnist.load_data()\n",
        "y_train = tf.keras.utils.to_categorical(y_train, 10)\n",
        "y_test = tf.keras.utils.to_categorical(y_test, 10)\n",
        "# x_*...PIXCEL (784, )\n",
        "x_train = x_train.reshape(60000,28*28)\n",
        "x_test = x_test.reshape(10000,28*28)\n",
        "# Normalization\n",
        "x_train = x_train/255.\n",
        "x_test = x_test/255.\n",
        "\n",
        "# Layer\n",
        "a = keras.layers.Input(shape=(28*28,))\n",
        "x = keras.layers.Dense(units=512, activation='relu', input_shape=(28*28,))(a)\n",
        "x = keras.layers.Dense(units=128, activation='relu')(x)\n",
        "x = keras.layers.Dense(units=64, activation='relu')(x)\n",
        "x = keras.layers.Dense(units=10, activation='softmax')(x)\n",
        "# Model\n",
        "model = keras.models.Model(inputs=a, outputs=x)\n",
        "model.compile(optimizer=keras.optimizers.Adadelta(), loss='categorical_crossentropy', metrics=['accuracy'])\n",
        "model.summary()\n",
        "#model.fit(x_train, y_train, batch_size=64, epochs=5, validation_data=(x_test, y_test))\n",
        "\n",
        "\n",
        "\"\"\"\n",
        "a = keras.layers.Input(shape=(28*28,))\n",
        "x = keras.layers.Conv2D(20, (3, 3), padding=\"valid\", activation=tf.nn.relu,)(a)\n",
        "x = keras.layers.MaxPooling2D(pool_size=(3,3))(x)\n",
        "x = keras.layers.Conv2D(50, (3, 3), padding=\"valid\", activation=tf.nn.relu,)(x)\n",
        "x = keras.layers.MaxPooling2D(pool_size=(3,3))(x)\n",
        "x = keras.layers.BatchNormalization()(x)\n",
        "x = keras.layers.Flatten()(x)\n",
        "x = keras.layers.Dense(225, activation=tf.nn.relu)(x)\n",
        "x = keras.layers.Dense(10, activation=\"softmax\")(x)\n",
        "\"\"\"\n",
        "\n",
        "\n",
        "adversarialExample = sneakyGenerate(8, 2)"
      ],
      "execution_count": 74,
      "outputs": [
        {
          "output_type": "stream",
          "text": [
            "_________________________________________________________________\n",
            "Layer (type)                 Output Shape              Param #   \n",
            "=================================================================\n",
            "input_579 (InputLayer)       (None, 784)               0         \n",
            "_________________________________________________________________\n",
            "dense_269 (Dense)            (None, 512)               401920    \n",
            "_________________________________________________________________\n",
            "dense_270 (Dense)            (None, 128)               65664     \n",
            "_________________________________________________________________\n",
            "dense_271 (Dense)            (None, 64)                8256      \n",
            "_________________________________________________________________\n",
            "dense_272 (Dense)            (None, 10)                650       \n",
            "=================================================================\n",
            "Total params: 476,490\n",
            "Trainable params: 476,490\n",
            "Non-trainable params: 0\n",
            "_________________________________________________________________\n",
            "\n",
            "What we want our adversarial example to look like: 2\n"
          ],
          "name": "stdout"
        },
        {
          "output_type": "display_data",
          "data": {
            "image/png": "[encoded data removed]",
            "text/plain": [
              "<Figure size 432x288 with 1 Axes>"
            ]
          },
          "metadata": {
            "tags": []
          }
        },
        {
          "output_type": "stream",
          "text": [
            "\n",
            "\n",
            "Adversarial Example: \n"
          ],
          "name": "stdout"
        },
        {
          "output_type": "display_data",
          "data": {
            "image/png": "[encoded data removed]",
            "text/plain": [
              "<Figure size 432x288 with 1 Axes>"
            ]
          },
          "metadata": {
            "tags": []
          }
        },
        {
          "output_type": "stream",
          "text": [
            "Network Prediction: 8\n",
            "\n",
            "Network Output: \n",
            "[[0.08 0.09 0.11 0.05 0.13 0.12 0.06 0.12 0.14 0.09]]\n",
            "\n"
          ],
          "name": "stdout"
        }
      ]
    }
  ]
}